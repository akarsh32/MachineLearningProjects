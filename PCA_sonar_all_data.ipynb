{
  "nbformat": 4,
  "nbformat_minor": 0,
  "metadata": {
    "kernelspec": {
      "display_name": "Python 3",
      "language": "python",
      "name": "python3"
    },
    "language_info": {
      "codemirror_mode": {
        "name": "ipython",
        "version": 3
      },
      "file_extension": ".py",
      "mimetype": "text/x-python",
      "name": "python",
      "nbconvert_exporter": "python",
      "pygments_lexer": "ipython3",
      "version": "3.7.7"
    },
    "colab": {
      "name": "PCA_sonar.all-data.ipynb",
      "provenance": [],
      "collapsed_sections": []
    }
  },
  "cells": [
    {
      "cell_type": "code",
      "metadata": {
        "id": "Zuu-mwBaT9io",
        "colab_type": "code",
        "colab": {
          "base_uri": "https://localhost:8080/",
          "height": 35
        },
        "outputId": "1d592b90-7772-44c0-b543-73bceaf4124f"
      },
      "source": [
        "from google.colab import drive\n",
        "drive.mount('/content/drive')"
      ],
      "execution_count": 45,
      "outputs": [
        {
          "output_type": "stream",
          "text": [
            "Drive already mounted at /content/drive; to attempt to forcibly remount, call drive.mount(\"/content/drive\", force_remount=True).\n"
          ],
          "name": "stdout"
        }
      ]
    },
    {
      "cell_type": "code",
      "metadata": {
        "id": "N5n20FjaSUIe",
        "colab_type": "code",
        "colab": {}
      },
      "source": [
        "import numpy as np, pandas as pd, matplotlib.pyplot as plt, seaborn as sns"
      ],
      "execution_count": 46,
      "outputs": []
    },
    {
      "cell_type": "code",
      "metadata": {
        "id": "scxvq836SUIs",
        "colab_type": "code",
        "colab": {}
      },
      "source": [
        "df = pd.read_csv('/content/drive/My Drive/Colab Notebooks/sonar.all-data.csv',header=None)"
      ],
      "execution_count": 47,
      "outputs": []
    },
    {
      "cell_type": "code",
      "metadata": {
        "id": "9CZvu6SSSUI3",
        "colab_type": "code",
        "colab": {
          "base_uri": "https://localhost:8080/",
          "height": 1000
        },
        "outputId": "5f44a682-83fc-4837-d906-c284272f0012"
      },
      "source": [
        "df.info()"
      ],
      "execution_count": 48,
      "outputs": [
        {
          "output_type": "stream",
          "text": [
            "<class 'pandas.core.frame.DataFrame'>\n",
            "RangeIndex: 208 entries, 0 to 207\n",
            "Data columns (total 61 columns):\n",
            " #   Column  Non-Null Count  Dtype  \n",
            "---  ------  --------------  -----  \n",
            " 0   0       208 non-null    float64\n",
            " 1   1       208 non-null    float64\n",
            " 2   2       208 non-null    float64\n",
            " 3   3       208 non-null    float64\n",
            " 4   4       208 non-null    float64\n",
            " 5   5       208 non-null    float64\n",
            " 6   6       208 non-null    float64\n",
            " 7   7       208 non-null    float64\n",
            " 8   8       208 non-null    float64\n",
            " 9   9       208 non-null    float64\n",
            " 10  10      208 non-null    float64\n",
            " 11  11      208 non-null    float64\n",
            " 12  12      208 non-null    float64\n",
            " 13  13      208 non-null    float64\n",
            " 14  14      208 non-null    float64\n",
            " 15  15      208 non-null    float64\n",
            " 16  16      208 non-null    float64\n",
            " 17  17      208 non-null    float64\n",
            " 18  18      208 non-null    float64\n",
            " 19  19      208 non-null    float64\n",
            " 20  20      208 non-null    float64\n",
            " 21  21      208 non-null    float64\n",
            " 22  22      208 non-null    float64\n",
            " 23  23      208 non-null    float64\n",
            " 24  24      208 non-null    float64\n",
            " 25  25      208 non-null    float64\n",
            " 26  26      208 non-null    float64\n",
            " 27  27      208 non-null    float64\n",
            " 28  28      208 non-null    float64\n",
            " 29  29      208 non-null    float64\n",
            " 30  30      208 non-null    float64\n",
            " 31  31      208 non-null    float64\n",
            " 32  32      208 non-null    float64\n",
            " 33  33      208 non-null    float64\n",
            " 34  34      208 non-null    float64\n",
            " 35  35      208 non-null    float64\n",
            " 36  36      208 non-null    float64\n",
            " 37  37      208 non-null    float64\n",
            " 38  38      208 non-null    float64\n",
            " 39  39      208 non-null    float64\n",
            " 40  40      208 non-null    float64\n",
            " 41  41      208 non-null    float64\n",
            " 42  42      208 non-null    float64\n",
            " 43  43      208 non-null    float64\n",
            " 44  44      208 non-null    float64\n",
            " 45  45      208 non-null    float64\n",
            " 46  46      208 non-null    float64\n",
            " 47  47      208 non-null    float64\n",
            " 48  48      208 non-null    float64\n",
            " 49  49      208 non-null    float64\n",
            " 50  50      208 non-null    float64\n",
            " 51  51      208 non-null    float64\n",
            " 52  52      208 non-null    float64\n",
            " 53  53      208 non-null    float64\n",
            " 54  54      208 non-null    float64\n",
            " 55  55      208 non-null    float64\n",
            " 56  56      208 non-null    float64\n",
            " 57  57      208 non-null    float64\n",
            " 58  58      208 non-null    float64\n",
            " 59  59      208 non-null    float64\n",
            " 60  60      208 non-null    object \n",
            "dtypes: float64(60), object(1)\n",
            "memory usage: 99.2+ KB\n"
          ],
          "name": "stdout"
        }
      ]
    },
    {
      "cell_type": "code",
      "metadata": {
        "id": "JEPZTfKTSUJA",
        "colab_type": "code",
        "colab": {
          "base_uri": "https://localhost:8080/",
          "height": 108
        },
        "outputId": "f26ca4d1-2868-46cf-8e4f-8957d2dce441"
      },
      "source": [
        "df.columns"
      ],
      "execution_count": 49,
      "outputs": [
        {
          "output_type": "execute_result",
          "data": {
            "text/plain": [
              "Int64Index([ 0,  1,  2,  3,  4,  5,  6,  7,  8,  9, 10, 11, 12, 13, 14, 15, 16,\n",
              "            17, 18, 19, 20, 21, 22, 23, 24, 25, 26, 27, 28, 29, 30, 31, 32, 33,\n",
              "            34, 35, 36, 37, 38, 39, 40, 41, 42, 43, 44, 45, 46, 47, 48, 49, 50,\n",
              "            51, 52, 53, 54, 55, 56, 57, 58, 59, 60],\n",
              "           dtype='int64')"
            ]
          },
          "metadata": {
            "tags": []
          },
          "execution_count": 49
        }
      ]
    },
    {
      "cell_type": "code",
      "metadata": {
        "id": "5UuFdJnoWC1D",
        "colab_type": "code",
        "colab": {
          "base_uri": "https://localhost:8080/",
          "height": 406
        },
        "outputId": "7c2cae58-8c0a-4e7a-f0d8-48d18499214e"
      },
      "source": [
        "df.iloc[:,-1:]"
      ],
      "execution_count": 50,
      "outputs": [
        {
          "output_type": "execute_result",
          "data": {
            "text/html": [
              "<div>\n",
              "<style scoped>\n",
              "    .dataframe tbody tr th:only-of-type {\n",
              "        vertical-align: middle;\n",
              "    }\n",
              "\n",
              "    .dataframe tbody tr th {\n",
              "        vertical-align: top;\n",
              "    }\n",
              "\n",
              "    .dataframe thead th {\n",
              "        text-align: right;\n",
              "    }\n",
              "</style>\n",
              "<table border=\"1\" class=\"dataframe\">\n",
              "  <thead>\n",
              "    <tr style=\"text-align: right;\">\n",
              "      <th></th>\n",
              "      <th>60</th>\n",
              "    </tr>\n",
              "  </thead>\n",
              "  <tbody>\n",
              "    <tr>\n",
              "      <th>0</th>\n",
              "      <td>R</td>\n",
              "    </tr>\n",
              "    <tr>\n",
              "      <th>1</th>\n",
              "      <td>R</td>\n",
              "    </tr>\n",
              "    <tr>\n",
              "      <th>2</th>\n",
              "      <td>R</td>\n",
              "    </tr>\n",
              "    <tr>\n",
              "      <th>3</th>\n",
              "      <td>R</td>\n",
              "    </tr>\n",
              "    <tr>\n",
              "      <th>4</th>\n",
              "      <td>R</td>\n",
              "    </tr>\n",
              "    <tr>\n",
              "      <th>...</th>\n",
              "      <td>...</td>\n",
              "    </tr>\n",
              "    <tr>\n",
              "      <th>203</th>\n",
              "      <td>M</td>\n",
              "    </tr>\n",
              "    <tr>\n",
              "      <th>204</th>\n",
              "      <td>M</td>\n",
              "    </tr>\n",
              "    <tr>\n",
              "      <th>205</th>\n",
              "      <td>M</td>\n",
              "    </tr>\n",
              "    <tr>\n",
              "      <th>206</th>\n",
              "      <td>M</td>\n",
              "    </tr>\n",
              "    <tr>\n",
              "      <th>207</th>\n",
              "      <td>M</td>\n",
              "    </tr>\n",
              "  </tbody>\n",
              "</table>\n",
              "<p>208 rows × 1 columns</p>\n",
              "</div>"
            ],
            "text/plain": [
              "    60\n",
              "0    R\n",
              "1    R\n",
              "2    R\n",
              "3    R\n",
              "4    R\n",
              "..  ..\n",
              "203  M\n",
              "204  M\n",
              "205  M\n",
              "206  M\n",
              "207  M\n",
              "\n",
              "[208 rows x 1 columns]"
            ]
          },
          "metadata": {
            "tags": []
          },
          "execution_count": 50
        }
      ]
    },
    {
      "cell_type": "code",
      "metadata": {
        "id": "_t4-BHsMWPr6",
        "colab_type": "code",
        "colab": {}
      },
      "source": [
        "from sklearn.preprocessing import LabelEncoder"
      ],
      "execution_count": 51,
      "outputs": []
    },
    {
      "cell_type": "code",
      "metadata": {
        "id": "mgMG4w46WPdY",
        "colab_type": "code",
        "colab": {
          "base_uri": "https://localhost:8080/",
          "height": 73
        },
        "outputId": "cc192b8a-546e-4551-a610-96eeec68732c"
      },
      "source": [
        "le = LabelEncoder()\n",
        "df.iloc[:,-1:] = le.fit_transform(df.iloc[:,-1:])"
      ],
      "execution_count": 52,
      "outputs": [
        {
          "output_type": "stream",
          "text": [
            "/usr/local/lib/python3.6/dist-packages/sklearn/preprocessing/_label.py:251: DataConversionWarning: A column-vector y was passed when a 1d array was expected. Please change the shape of y to (n_samples, ), for example using ravel().\n",
            "  y = column_or_1d(y, warn=True)\n"
          ],
          "name": "stderr"
        }
      ]
    },
    {
      "cell_type": "code",
      "metadata": {
        "id": "PA3L7UHjXsMj",
        "colab_type": "code",
        "colab": {}
      },
      "source": [
        "X = df.drop(df.iloc[:,-1:], axis=1)\n",
        "Y = df.iloc[:,-1:]"
      ],
      "execution_count": 53,
      "outputs": []
    },
    {
      "cell_type": "code",
      "metadata": {
        "id": "teSU4t8t5hHI",
        "colab_type": "code",
        "colab": {
          "base_uri": "https://localhost:8080/",
          "height": 35
        },
        "outputId": "ea86cf32-218d-4d9f-b855-a38d81a64690"
      },
      "source": [
        "Y.shape"
      ],
      "execution_count": 54,
      "outputs": [
        {
          "output_type": "execute_result",
          "data": {
            "text/plain": [
              "(208, 1)"
            ]
          },
          "metadata": {
            "tags": []
          },
          "execution_count": 54
        }
      ]
    },
    {
      "cell_type": "code",
      "metadata": {
        "id": "gx_13fFe5nCi",
        "colab_type": "code",
        "colab": {}
      },
      "source": [
        "Y = np.ravel(Y)"
      ],
      "execution_count": 55,
      "outputs": []
    },
    {
      "cell_type": "code",
      "metadata": {
        "id": "qeo5bAhv6MFY",
        "colab_type": "code",
        "colab": {
          "base_uri": "https://localhost:8080/",
          "height": 35
        },
        "outputId": "4c6eeb5c-6086-4caa-b700-3b675cc00730"
      },
      "source": [
        "Y.shape"
      ],
      "execution_count": 56,
      "outputs": [
        {
          "output_type": "execute_result",
          "data": {
            "text/plain": [
              "(208,)"
            ]
          },
          "metadata": {
            "tags": []
          },
          "execution_count": 56
        }
      ]
    },
    {
      "cell_type": "code",
      "metadata": {
        "id": "jnj6mA9FcKbt",
        "colab_type": "code",
        "colab": {}
      },
      "source": [
        "#Splitting the dataset into the training and test sets\n",
        "from sklearn.model_selection import train_test_split\n",
        "X_train, X_test, Y_train, Y_test = train_test_split(X,Y, test_size = 0.2, random_state = 0)"
      ],
      "execution_count": 57,
      "outputs": []
    },
    {
      "cell_type": "code",
      "metadata": {
        "id": "RUDCLLjQcKmb",
        "colab_type": "code",
        "colab": {}
      },
      "source": [
        "#Putting the values in the same scale\n",
        "from sklearn.preprocessing import StandardScaler\n",
        "sc_X = StandardScaler()\n",
        "X_train = sc_X.fit_transform(X_train)\n",
        "X_test = sc_X.transform(X_test)"
      ],
      "execution_count": 58,
      "outputs": []
    },
    {
      "cell_type": "code",
      "metadata": {
        "id": "DG7MRd4HcKFM",
        "colab_type": "code",
        "colab": {}
      },
      "source": [
        "# Applying PCA\n",
        "from sklearn.decomposition import PCA\n",
        "pca = PCA(n_components=2) \n",
        "X_train = pca.fit_transform(X_train)\n",
        "X_test = pca.transform(X_test)\n",
        "expained_variance = pca.explained_variance_ratio_"
      ],
      "execution_count": 59,
      "outputs": []
    },
    {
      "cell_type": "code",
      "metadata": {
        "id": "UHQHKIpEY9IG",
        "colab_type": "code",
        "colab": {
          "base_uri": "https://localhost:8080/",
          "height": 35
        },
        "outputId": "a2108e01-4278-42b1-835f-81031bac50f8"
      },
      "source": [
        "X.shape"
      ],
      "execution_count": 60,
      "outputs": [
        {
          "output_type": "execute_result",
          "data": {
            "text/plain": [
              "(208, 60)"
            ]
          },
          "metadata": {
            "tags": []
          },
          "execution_count": 60
        }
      ]
    },
    {
      "cell_type": "code",
      "metadata": {
        "id": "76ILFtIfZED8",
        "colab_type": "code",
        "colab": {
          "base_uri": "https://localhost:8080/",
          "height": 35
        },
        "outputId": "387a0eba-564c-4fb3-a51a-e6afc8623a2e"
      },
      "source": [
        "X_train.shape"
      ],
      "execution_count": 61,
      "outputs": [
        {
          "output_type": "execute_result",
          "data": {
            "text/plain": [
              "(166, 2)"
            ]
          },
          "metadata": {
            "tags": []
          },
          "execution_count": 61
        }
      ]
    },
    {
      "cell_type": "code",
      "metadata": {
        "id": "KrHf35p_c_0U",
        "colab_type": "code",
        "colab": {
          "base_uri": "https://localhost:8080/",
          "height": 35
        },
        "outputId": "94c4ec39-6a0a-445e-aac5-ec6f4e4de83d"
      },
      "source": [
        "X_test.shape"
      ],
      "execution_count": 62,
      "outputs": [
        {
          "output_type": "execute_result",
          "data": {
            "text/plain": [
              "(42, 2)"
            ]
          },
          "metadata": {
            "tags": []
          },
          "execution_count": 62
        }
      ]
    },
    {
      "cell_type": "code",
      "metadata": {
        "id": "y14a50SjZNmS",
        "colab_type": "code",
        "colab": {
          "base_uri": "https://localhost:8080/",
          "height": 406
        },
        "outputId": "44aa416e-9096-4bf8-a231-807fe79b4f36"
      },
      "source": [
        "plt.figure(figsize=(8,6))\n",
        "plt.scatter(X_train[:,0],X_train[:,1],c=Y_train)\n",
        "plt.xlabel('First principle component')\n",
        "plt.ylabel('Second principle component')"
      ],
      "execution_count": 63,
      "outputs": [
        {
          "output_type": "execute_result",
          "data": {
            "text/plain": [
              "Text(0, 0.5, 'Second principle component')"
            ]
          },
          "metadata": {
            "tags": []
          },
          "execution_count": 63
        },
        {
          "output_type": "display_data",
          "data": {
            "image/png": "[encoded data removed]",
            "text/plain": [
              "<Figure size 576x432 with 1 Axes>"
            ]
          },
          "metadata": {
            "tags": [],
            "needs_background": "light"
          }
        }
      ]
    },
    {
      "cell_type": "code",
      "metadata": {
        "id": "mrFz-VX-ZzUg",
        "colab_type": "code",
        "colab": {}
      },
      "source": [
        "from sklearn.model_selection import cross_val_score, GridSearchCV, StratifiedKFold\n",
        "from sklearn.linear_model import LogisticRegression\n",
        "from sklearn.tree import DecisionTreeClassifier\n",
        "from sklearn.neighbors import KNeighborsClassifier\n",
        "from sklearn.naive_bayes import GaussianNB\n",
        "from sklearn.svm import SVC\n",
        "from sklearn.pipeline import Pipeline\n",
        "from sklearn.ensemble import AdaBoostClassifier, GradientBoostingClassifier, RandomForestClassifier\n",
        "from sklearn.metrics import classification_report, confusion_matrix, accuracy_score"
      ],
      "execution_count": 66,
      "outputs": []
    },
    {
      "cell_type": "code",
      "metadata": {
        "id": "mgV3tcW2ZdPA",
        "colab_type": "code",
        "colab": {}
      },
      "source": [
        "models = []\n",
        "models.append(('LR', LogisticRegression()))\n",
        "models.append(('RF', RandomForestClassifier()))\n",
        "models.append(('KNN', KNeighborsClassifier()))\n",
        "models.append(('DT', DecisionTreeClassifier()))\n",
        "models.append(('NB', GaussianNB()))\n",
        "models.append(('SVM', SVC()))"
      ],
      "execution_count": 67,
      "outputs": []
    },
    {
      "cell_type": "code",
      "metadata": {
        "id": "xF_Uekf_ZdgK",
        "colab_type": "code",
        "colab": {
          "base_uri": "https://localhost:8080/",
          "height": 126
        },
        "outputId": "182b7b0e-a9b4-41ac-fad3-7e930941c269"
      },
      "source": [
        "### cross validation\n",
        "num_folds = 10\n",
        "seed = 7\n",
        "scoring = 'accuracy'\n",
        "results = []\n",
        "names = []\n",
        "for name, model in models:\n",
        "    kfold = StratifiedKFold(n_splits=num_folds, random_state=seed, shuffle=True)\n",
        "    cv_results = cross_val_score(model, X_train, Y_train, cv=kfold, scoring=scoring)\n",
        "    results.append(cv_results)\n",
        "    names.append(name)\n",
        "    msg = \"%s: Avg. Accuracy %f Std. (%f) Max Accuracy (%f) Min Accuracy (%f)\" % (name, cv_results.mean(), cv_results.std(), \n",
        "                                                                                  cv_results.max(), cv_results.min())\n",
        "    print(msg)"
      ],
      "execution_count": 79,
      "outputs": [
        {
          "output_type": "stream",
          "text": [
            "LR: Avg. Accuracy 0.626103 Std. (0.093473) Max Accuracy (0.764706) Min Accuracy (0.500000)\n",
            "RF: Avg. Accuracy 0.669118 Std. (0.094379) Max Accuracy (0.823529) Min Accuracy (0.470588)\n",
            "KNN: Avg. Accuracy 0.669118 Std. (0.090638) Max Accuracy (0.823529) Min Accuracy (0.529412)\n",
            "DT: Avg. Accuracy 0.670221 Std. (0.106669) Max Accuracy (0.812500) Min Accuracy (0.470588)\n",
            "NB: Avg. Accuracy 0.619853 Std. (0.092194) Max Accuracy (0.764706) Min Accuracy (0.500000)\n",
            "SVM: Avg. Accuracy 0.674632 Std. (0.092779) Max Accuracy (0.764706) Min Accuracy (0.529412)\n"
          ],
          "name": "stdout"
        }
      ]
    },
    {
      "cell_type": "code",
      "metadata": {
        "id": "kp71v5kgg2t6",
        "colab_type": "code",
        "colab": {}
      },
      "source": [
        "### pipelines\n",
        "pipelines = []\n",
        "pipelines.append(('ScaledLR', Pipeline([('Scaler', StandardScaler()), ('LR', LogisticRegression())])))\n",
        "pipelines.append(('ScaledRf', Pipeline([('Scaler', StandardScaler()), ('RF', RandomForestClassifier())])))\n",
        "pipelines.append(('ScaledKNN', Pipeline([('Scaler', StandardScaler()), ('KNN', KNeighborsClassifier())])))\n",
        "pipelines.append(('ScaledDT', Pipeline([('Scaler', StandardScaler()), ('DT', DecisionTreeClassifier())])))\n",
        "pipelines.append(('ScaledNB', Pipeline([('Scaler', StandardScaler()), ('NB', GaussianNB())])))\n",
        "pipelines.append(('ScaledSVM', Pipeline([('Scaler', StandardScaler()), ('SVM', SVC())])))"
      ],
      "execution_count": 81,
      "outputs": []
    },
    {
      "cell_type": "code",
      "metadata": {
        "id": "ZajJvlmkZdkl",
        "colab_type": "code",
        "colab": {
          "base_uri": "https://localhost:8080/",
          "height": 126
        },
        "outputId": "ae7a8b88-bcb8-4331-c071-1cd75c002eaa"
      },
      "source": [
        "results = []\n",
        "names = []\n",
        "for name, model in pipelines:\n",
        "    kfold = StratifiedKFold(n_splits=num_folds, random_state=seed, shuffle=True)\n",
        "    cv_results = cross_val_score(model, X_train, Y_train, cv=kfold, scoring=scoring)\n",
        "    results.append(cv_results)\n",
        "    names.append(name)\n",
        "    msg = \"%s: Avg. Accuracy %f Std. (%f) Max Accuracy (%f) Min Accuracy (%f)\" % (name, cv_results.mean(), cv_results.std(), \n",
        "                                                                                  cv_results.max(), cv_results.min())\n",
        "    print(msg)"
      ],
      "execution_count": 82,
      "outputs": [
        {
          "output_type": "stream",
          "text": [
            "ScaledLR: Avg. Accuracy 0.626103 Std. (0.093473) Max Accuracy (0.764706) Min Accuracy (0.500000)\n",
            "ScaledRf: Avg. Accuracy 0.680515 Std. (0.071032) Max Accuracy (0.823529) Min Accuracy (0.588235)\n",
            "ScaledKNN: Avg. Accuracy 0.681250 Std. (0.081300) Max Accuracy (0.823529) Min Accuracy (0.529412)\n",
            "ScaledDT: Avg. Accuracy 0.676471 Std. (0.105663) Max Accuracy (0.812500) Min Accuracy (0.470588)\n",
            "ScaledNB: Avg. Accuracy 0.619853 Std. (0.092194) Max Accuracy (0.764706) Min Accuracy (0.500000)\n",
            "ScaledSVM: Avg. Accuracy 0.674632 Std. (0.092779) Max Accuracy (0.764706) Min Accuracy (0.529412)\n"
          ],
          "name": "stdout"
        }
      ]
    },
    {
      "cell_type": "code",
      "metadata": {
        "id": "Z1vYxxwwZddx",
        "colab_type": "code",
        "colab": {
          "base_uri": "https://localhost:8080/",
          "height": 73
        },
        "outputId": "d92e43b4-9869-4a1c-a288-0372a1c52c3d"
      },
      "source": [
        "# KNN algorithm tuning\n",
        "scaler = StandardScaler().fit(X_train)\n",
        "rescaledX = scaler.transform(X_train)\n",
        "neighbors = [1,3,5,7,9,11,13,15,17,19,21]\n",
        "param_grid = dict(n_neighbors=neighbors)\n",
        "model = KNeighborsClassifier()\n",
        "kfold = StratifiedKFold(n_splits=num_folds, random_state=seed)\n",
        "grid = GridSearchCV(estimator=model, param_grid=param_grid, scoring=scoring, cv=kfold)\n",
        "grid_result = grid.fit(rescaledX, Y_train)"
      ],
      "execution_count": 83,
      "outputs": [
        {
          "output_type": "stream",
          "text": [
            "/usr/local/lib/python3.6/dist-packages/sklearn/model_selection/_split.py:296: FutureWarning: Setting a random_state has no effect since shuffle is False. This will raise an error in 0.24. You should leave random_state to its default (None), or set shuffle=True.\n",
            "  FutureWarning\n"
          ],
          "name": "stderr"
        }
      ]
    },
    {
      "cell_type": "code",
      "metadata": {
        "id": "NoAQngX39H3B",
        "colab_type": "code",
        "colab": {
          "base_uri": "https://localhost:8080/",
          "height": 1000
        },
        "outputId": "a59f7ab7-1cc7-4eb5-beb0-dc682dd4bee4"
      },
      "source": [
        "grid_result.cv_results_"
      ],
      "execution_count": 87,
      "outputs": [
        {
          "output_type": "execute_result",
          "data": {
            "text/plain": [
              "{'mean_fit_time': array([0.0009306 , 0.00082321, 0.00129282, 0.00157161, 0.00072482,\n",
              "        0.00084763, 0.00152025, 0.00145366, 0.00076103, 0.00086806,\n",
              "        0.00118146, 0.00138168, 0.00079656, 0.000914  , 0.00116725,\n",
              "        0.00134966, 0.00080218, 0.00095525, 0.00116861, 0.00130868,\n",
              "        0.00081878, 0.00096622, 0.00118597, 0.00141685, 0.00086093,\n",
              "        0.00101535, 0.00119102, 0.00130992, 0.00090332, 0.0010921 ,\n",
              "        0.00125439, 0.00128183, 0.00092049, 0.001125  , 0.00120797,\n",
              "        0.00128238, 0.00097167, 0.00111825, 0.00120835, 0.00126588]),\n",
              " 'mean_score_time': array([0.00043972, 0.00034199, 0.00046217, 0.00042193, 0.00031106,\n",
              "        0.00031872, 0.00045996, 0.0003809 , 0.00030468, 0.00030775,\n",
              "        0.00035961, 0.00036514, 0.00030825, 0.00032022, 0.00034637,\n",
              "        0.00036123, 0.00031404, 0.00031395, 0.00035629, 0.00036945,\n",
              "        0.00031078, 0.00031261, 0.00035119, 0.00040214, 0.00031605,\n",
              "        0.00031457, 0.00035992, 0.00037067, 0.00030906, 0.00032337,\n",
              "        0.00036464, 0.00034866, 0.00031555, 0.00032182, 0.00036728,\n",
              "        0.00036623, 0.00031519, 0.00031557, 0.00035229, 0.00035987]),\n",
              " 'mean_test_score': array([0.63198529, 0.59522059, 0.60183824, 0.60772059, 0.61323529,\n",
              "        0.58235294, 0.65073529, 0.55367647, 0.60735294, 0.57647059,\n",
              "        0.65036765, 0.52977941, 0.60735294, 0.57720588, 0.6625    ,\n",
              "        0.51176471, 0.60735294, 0.56507353, 0.67463235, 0.48161765,\n",
              "        0.60735294, 0.55919118, 0.67463235, 0.47536765, 0.60735294,\n",
              "        0.56507353, 0.67426471, 0.45772059, 0.60735294, 0.56470588,\n",
              "        0.68051471, 0.45220588, 0.60735294, 0.56470588, 0.68676471,\n",
              "        0.45220588, 0.60735294, 0.56470588, 0.66875   , 0.45257353]),\n",
              " 'param_C': masked_array(data=[0.1, 0.1, 0.1, 0.1, 0.3, 0.3, 0.3, 0.3, 0.5, 0.5, 0.5,\n",
              "                    0.5, 0.7, 0.7, 0.7, 0.7, 0.9, 0.9, 0.9, 0.9, 1.0, 1.0,\n",
              "                    1.0, 1.0, 1.3, 1.3, 1.3, 1.3, 1.5, 1.5, 1.5, 1.5, 1.7,\n",
              "                    1.7, 1.7, 1.7, 2.0, 2.0, 2.0, 2.0],\n",
              "              mask=[False, False, False, False, False, False, False, False,\n",
              "                    False, False, False, False, False, False, False, False,\n",
              "                    False, False, False, False, False, False, False, False,\n",
              "                    False, False, False, False, False, False, False, False,\n",
              "                    False, False, False, False, False, False, False, False],\n",
              "        fill_value='?',\n",
              "             dtype=object),\n",
              " 'param_kernel': masked_array(data=['linear', 'poly', 'rbf', 'sigmoid', 'linear', 'poly',\n",
              "                    'rbf', 'sigmoid', 'linear', 'poly', 'rbf', 'sigmoid',\n",
              "                    'linear', 'poly', 'rbf', 'sigmoid', 'linear', 'poly',\n",
              "                    'rbf', 'sigmoid', 'linear', 'poly', 'rbf', 'sigmoid',\n",
              "                    'linear', 'poly', 'rbf', 'sigmoid', 'linear', 'poly',\n",
              "                    'rbf', 'sigmoid', 'linear', 'poly', 'rbf', 'sigmoid',\n",
              "                    'linear', 'poly', 'rbf', 'sigmoid'],\n",
              "              mask=[False, False, False, False, False, False, False, False,\n",
              "                    False, False, False, False, False, False, False, False,\n",
              "                    False, False, False, False, False, False, False, False,\n",
              "                    False, False, False, False, False, False, False, False,\n",
              "                    False, False, False, False, False, False, False, False],\n",
              "        fill_value='?',\n",
              "             dtype=object),\n",
              " 'params': [{'C': 0.1, 'kernel': 'linear'},\n",
              "  {'C': 0.1, 'kernel': 'poly'},\n",
              "  {'C': 0.1, 'kernel': 'rbf'},\n",
              "  {'C': 0.1, 'kernel': 'sigmoid'},\n",
              "  {'C': 0.3, 'kernel': 'linear'},\n",
              "  {'C': 0.3, 'kernel': 'poly'},\n",
              "  {'C': 0.3, 'kernel': 'rbf'},\n",
              "  {'C': 0.3, 'kernel': 'sigmoid'},\n",
              "  {'C': 0.5, 'kernel': 'linear'},\n",
              "  {'C': 0.5, 'kernel': 'poly'},\n",
              "  {'C': 0.5, 'kernel': 'rbf'},\n",
              "  {'C': 0.5, 'kernel': 'sigmoid'},\n",
              "  {'C': 0.7, 'kernel': 'linear'},\n",
              "  {'C': 0.7, 'kernel': 'poly'},\n",
              "  {'C': 0.7, 'kernel': 'rbf'},\n",
              "  {'C': 0.7, 'kernel': 'sigmoid'},\n",
              "  {'C': 0.9, 'kernel': 'linear'},\n",
              "  {'C': 0.9, 'kernel': 'poly'},\n",
              "  {'C': 0.9, 'kernel': 'rbf'},\n",
              "  {'C': 0.9, 'kernel': 'sigmoid'},\n",
              "  {'C': 1.0, 'kernel': 'linear'},\n",
              "  {'C': 1.0, 'kernel': 'poly'},\n",
              "  {'C': 1.0, 'kernel': 'rbf'},\n",
              "  {'C': 1.0, 'kernel': 'sigmoid'},\n",
              "  {'C': 1.3, 'kernel': 'linear'},\n",
              "  {'C': 1.3, 'kernel': 'poly'},\n",
              "  {'C': 1.3, 'kernel': 'rbf'},\n",
              "  {'C': 1.3, 'kernel': 'sigmoid'},\n",
              "  {'C': 1.5, 'kernel': 'linear'},\n",
              "  {'C': 1.5, 'kernel': 'poly'},\n",
              "  {'C': 1.5, 'kernel': 'rbf'},\n",
              "  {'C': 1.5, 'kernel': 'sigmoid'},\n",
              "  {'C': 1.7, 'kernel': 'linear'},\n",
              "  {'C': 1.7, 'kernel': 'poly'},\n",
              "  {'C': 1.7, 'kernel': 'rbf'},\n",
              "  {'C': 1.7, 'kernel': 'sigmoid'},\n",
              "  {'C': 2.0, 'kernel': 'linear'},\n",
              "  {'C': 2.0, 'kernel': 'poly'},\n",
              "  {'C': 2.0, 'kernel': 'rbf'},\n",
              "  {'C': 2.0, 'kernel': 'sigmoid'}],\n",
              " 'rank_test_score': array([10, 22, 21, 12, 11, 23,  8, 32, 13, 25,  9, 33, 13, 24,  7, 34, 13,\n",
              "        26,  3, 35, 13, 31,  3, 36, 13, 26,  5, 37, 13, 28,  2, 39, 13, 28,\n",
              "         1, 39, 13, 28,  6, 38], dtype=int32),\n",
              " 'split0_test_score': array([0.52941176, 0.52941176, 0.64705882, 0.58823529, 0.52941176,\n",
              "        0.58823529, 0.52941176, 0.52941176, 0.52941176, 0.58823529,\n",
              "        0.52941176, 0.52941176, 0.52941176, 0.58823529, 0.52941176,\n",
              "        0.52941176, 0.52941176, 0.52941176, 0.52941176, 0.52941176,\n",
              "        0.52941176, 0.47058824, 0.52941176, 0.52941176, 0.52941176,\n",
              "        0.52941176, 0.52941176, 0.52941176, 0.52941176, 0.58823529,\n",
              "        0.52941176, 0.52941176, 0.52941176, 0.58823529, 0.52941176,\n",
              "        0.52941176, 0.52941176, 0.58823529, 0.52941176, 0.52941176]),\n",
              " 'split1_test_score': array([0.76470588, 0.82352941, 0.64705882, 0.70588235, 0.76470588,\n",
              "        0.76470588, 0.76470588, 0.64705882, 0.76470588, 0.70588235,\n",
              "        0.76470588, 0.70588235, 0.76470588, 0.70588235, 0.76470588,\n",
              "        0.47058824, 0.76470588, 0.70588235, 0.76470588, 0.35294118,\n",
              "        0.76470588, 0.70588235, 0.76470588, 0.35294118, 0.76470588,\n",
              "        0.70588235, 0.76470588, 0.29411765, 0.76470588, 0.70588235,\n",
              "        0.76470588, 0.29411765, 0.76470588, 0.70588235, 0.76470588,\n",
              "        0.29411765, 0.76470588, 0.70588235, 0.70588235, 0.29411765]),\n",
              " 'split2_test_score': array([0.76470588, 0.70588235, 0.52941176, 0.64705882, 0.76470588,\n",
              "        0.64705882, 0.70588235, 0.52941176, 0.76470588, 0.64705882,\n",
              "        0.70588235, 0.52941176, 0.76470588, 0.58823529, 0.70588235,\n",
              "        0.47058824, 0.76470588, 0.58823529, 0.76470588, 0.47058824,\n",
              "        0.76470588, 0.58823529, 0.76470588, 0.47058824, 0.76470588,\n",
              "        0.58823529, 0.76470588, 0.47058824, 0.76470588, 0.58823529,\n",
              "        0.76470588, 0.47058824, 0.76470588, 0.58823529, 0.76470588,\n",
              "        0.47058824, 0.76470588, 0.58823529, 0.76470588, 0.47058824]),\n",
              " 'split3_test_score': array([0.58823529, 0.58823529, 0.64705882, 0.58823529, 0.58823529,\n",
              "        0.58823529, 0.64705882, 0.52941176, 0.58823529, 0.58823529,\n",
              "        0.64705882, 0.52941176, 0.58823529, 0.58823529, 0.70588235,\n",
              "        0.47058824, 0.58823529, 0.58823529, 0.70588235, 0.41176471,\n",
              "        0.58823529, 0.58823529, 0.70588235, 0.41176471, 0.58823529,\n",
              "        0.58823529, 0.70588235, 0.52941176, 0.58823529, 0.58823529,\n",
              "        0.70588235, 0.41176471, 0.58823529, 0.58823529, 0.70588235,\n",
              "        0.41176471, 0.58823529, 0.58823529, 0.70588235, 0.41176471]),\n",
              " 'split4_test_score': array([0.58823529, 0.58823529, 0.70588235, 0.58823529, 0.58823529,\n",
              "        0.64705882, 0.64705882, 0.58823529, 0.52941176, 0.64705882,\n",
              "        0.70588235, 0.52941176, 0.52941176, 0.58823529, 0.70588235,\n",
              "        0.52941176, 0.52941176, 0.58823529, 0.76470588, 0.52941176,\n",
              "        0.52941176, 0.58823529, 0.76470588, 0.52941176, 0.52941176,\n",
              "        0.58823529, 0.76470588, 0.52941176, 0.52941176, 0.58823529,\n",
              "        0.76470588, 0.52941176, 0.52941176, 0.58823529, 0.76470588,\n",
              "        0.52941176, 0.52941176, 0.58823529, 0.70588235, 0.52941176]),\n",
              " 'split5_test_score': array([0.64705882, 0.52941176, 0.52941176, 0.64705882, 0.64705882,\n",
              "        0.58823529, 0.58823529, 0.58823529, 0.64705882, 0.58823529,\n",
              "        0.58823529, 0.41176471, 0.64705882, 0.58823529, 0.58823529,\n",
              "        0.64705882, 0.64705882, 0.58823529, 0.52941176, 0.64705882,\n",
              "        0.64705882, 0.58823529, 0.52941176, 0.64705882, 0.64705882,\n",
              "        0.58823529, 0.58823529, 0.41176471, 0.64705882, 0.58823529,\n",
              "        0.58823529, 0.41176471, 0.64705882, 0.58823529, 0.58823529,\n",
              "        0.41176471, 0.64705882, 0.58823529, 0.58823529, 0.35294118]),\n",
              " 'split6_test_score': array([0.5625, 0.5625, 0.5   , 0.5625, 0.5625, 0.4375, 0.6875, 0.5   ,\n",
              "        0.5625, 0.4375, 0.6875, 0.5625, 0.5625, 0.4375, 0.6875, 0.5625,\n",
              "        0.5625, 0.4375, 0.75  , 0.5625, 0.5625, 0.4375, 0.75  , 0.5625,\n",
              "        0.5625, 0.4375, 0.75  , 0.5625, 0.5625, 0.4375, 0.75  , 0.5625,\n",
              "        0.5625, 0.4375, 0.75  , 0.5625, 0.5625, 0.4375, 0.75  , 0.5625]),\n",
              " 'split7_test_score': array([0.625 , 0.4375, 0.6875, 0.5625, 0.5625, 0.375 , 0.75  , 0.5625,\n",
              "        0.5625, 0.375 , 0.75  , 0.375 , 0.5625, 0.375 , 0.75  , 0.375 ,\n",
              "        0.5625, 0.375 , 0.6875, 0.375 , 0.5625, 0.375 , 0.6875, 0.375 ,\n",
              "        0.5625, 0.375 , 0.6875, 0.4375, 0.5625, 0.375 , 0.6875, 0.4375,\n",
              "        0.5625, 0.375 , 0.6875, 0.375 , 0.5625, 0.375 , 0.6875, 0.4375]),\n",
              " 'split8_test_score': array([0.5625, 0.5625, 0.5   , 0.5   , 0.5   , 0.5   , 0.5625, 0.375 ,\n",
              "        0.5   , 0.5625, 0.5   , 0.5   , 0.5   , 0.5625, 0.5625, 0.5   ,\n",
              "        0.5   , 0.5625, 0.5625, 0.375 , 0.5   , 0.5625, 0.5625, 0.3125,\n",
              "        0.5   , 0.5625, 0.5   , 0.3125, 0.5   , 0.5   , 0.5625, 0.3125,\n",
              "        0.5   , 0.5   , 0.625 , 0.375 , 0.5   , 0.5   , 0.5625, 0.375 ]),\n",
              " 'split9_test_score': array([0.6875, 0.625 , 0.625 , 0.6875, 0.625 , 0.6875, 0.625 , 0.6875,\n",
              "        0.625 , 0.625 , 0.625 , 0.625 , 0.625 , 0.75  , 0.625 , 0.5625,\n",
              "        0.625 , 0.6875, 0.6875, 0.5625, 0.625 , 0.6875, 0.6875, 0.5625,\n",
              "        0.625 , 0.6875, 0.6875, 0.5   , 0.625 , 0.6875, 0.6875, 0.5625,\n",
              "        0.625 , 0.6875, 0.6875, 0.5625, 0.625 , 0.6875, 0.6875, 0.5625]),\n",
              " 'std_fit_time': array([1.07624629e-04, 1.92165375e-05, 1.08474493e-04, 9.33333555e-05,\n",
              "        1.93182176e-05, 3.04038940e-05, 3.75488420e-04, 6.22703003e-05,\n",
              "        3.60893598e-05, 2.26629244e-05, 3.74972929e-05, 7.39398095e-05,\n",
              "        2.44606308e-05, 4.18111964e-05, 3.45310115e-05, 6.46674918e-05,\n",
              "        2.30439173e-05, 4.76149063e-05, 2.27534906e-05, 7.45706086e-05,\n",
              "        1.81084522e-05, 5.63948596e-05, 5.44144170e-05, 2.23810444e-04,\n",
              "        3.36465976e-05, 4.78578072e-05, 2.35897684e-05, 6.61625776e-05,\n",
              "        7.41686287e-05, 1.11946559e-04, 1.22968946e-04, 2.61548985e-05,\n",
              "        6.25211346e-05, 1.07928075e-04, 5.02758250e-05, 4.83490365e-05,\n",
              "        4.85396162e-05, 5.96803232e-05, 4.58287148e-05, 3.88941385e-05]),\n",
              " 'std_score_time': array([1.05968036e-04, 3.01974237e-05, 1.49487394e-04, 2.00951789e-05,\n",
              "        1.58927221e-05, 2.03793641e-05, 1.12710113e-04, 1.72121702e-05,\n",
              "        1.72072983e-05, 9.29392197e-06, 3.02421633e-05, 1.29784922e-05,\n",
              "        1.22966910e-05, 1.64683049e-05, 8.20437096e-06, 9.03631577e-06,\n",
              "        1.52314955e-05, 6.96231239e-06, 1.30731671e-05, 1.04056532e-05,\n",
              "        1.06774530e-05, 8.50041648e-06, 1.12142936e-05, 6.87128012e-05,\n",
              "        2.02617081e-05, 8.70681670e-06, 2.29489989e-05, 2.80684696e-05,\n",
              "        1.55019936e-05, 2.08623886e-05, 4.75879184e-05, 6.32074588e-06,\n",
              "        1.47002987e-05, 1.00106280e-05, 2.58534692e-05, 3.18840527e-05,\n",
              "        7.12708069e-06, 8.80871957e-06, 1.53572660e-05, 6.98139106e-06]),\n",
              " 'std_test_score': array([0.0791159 , 0.10051567, 0.07487825, 0.05994   , 0.08568306,\n",
              "        0.11115108, 0.07371301, 0.08103595, 0.08914664, 0.09464752,\n",
              "        0.08502827, 0.08939873, 0.08914664, 0.10375206, 0.07681624,\n",
              "        0.06928562, 0.08914664, 0.09520639, 0.092779  , 0.09450746,\n",
              "        0.08914664, 0.09897083, 0.092779  , 0.1030337 , 0.08914664,\n",
              "        0.09520639, 0.09506645, 0.08872794, 0.08914664, 0.09702261,\n",
              "        0.08491692, 0.09197057, 0.08914664, 0.09702261, 0.07802091,\n",
              "        0.08762041, 0.08914664, 0.09702261, 0.07604964, 0.08901995])}"
            ]
          },
          "metadata": {
            "tags": []
          },
          "execution_count": 87
        }
      ]
    },
    {
      "cell_type": "code",
      "metadata": {
        "id": "nWRvNn2bZdak",
        "colab_type": "code",
        "colab": {
          "base_uri": "https://localhost:8080/",
          "height": 760
        },
        "outputId": "5084ce51-544c-4351-a687-c58f9bdd9d64"
      },
      "source": [
        "print(\"Best: %f using %s\" % (grid_result.best_score_, grid_result.best_params_))\n",
        "means = grid_result.cv_results_['mean_test_score']\n",
        "stds = grid_result.cv_results_['std_test_score']\n",
        "params = grid_result.cv_results_['params']\n",
        "ranks = grid_result.cv_results_['rank_test_score']\n",
        "for mean, stdev, param, rank in zip(means, stds, params, ranks):\n",
        "    print(\"#%d %f (%f) with: %r\" % (rank, mean, stdev, param))"
      ],
      "execution_count": 88,
      "outputs": [
        {
          "output_type": "stream",
          "text": [
            "Best: 0.686765 using {'C': 1.7, 'kernel': 'rbf'}\n",
            "#10 0.631985 (0.079116) with: {'C': 0.1, 'kernel': 'linear'}\n",
            "#22 0.595221 (0.100516) with: {'C': 0.1, 'kernel': 'poly'}\n",
            "#21 0.601838 (0.074878) with: {'C': 0.1, 'kernel': 'rbf'}\n",
            "#12 0.607721 (0.059940) with: {'C': 0.1, 'kernel': 'sigmoid'}\n",
            "#11 0.613235 (0.085683) with: {'C': 0.3, 'kernel': 'linear'}\n",
            "#23 0.582353 (0.111151) with: {'C': 0.3, 'kernel': 'poly'}\n",
            "#8 0.650735 (0.073713) with: {'C': 0.3, 'kernel': 'rbf'}\n",
            "#32 0.553676 (0.081036) with: {'C': 0.3, 'kernel': 'sigmoid'}\n",
            "#13 0.607353 (0.089147) with: {'C': 0.5, 'kernel': 'linear'}\n",
            "#25 0.576471 (0.094648) with: {'C': 0.5, 'kernel': 'poly'}\n",
            "#9 0.650368 (0.085028) with: {'C': 0.5, 'kernel': 'rbf'}\n",
            "#33 0.529779 (0.089399) with: {'C': 0.5, 'kernel': 'sigmoid'}\n",
            "#13 0.607353 (0.089147) with: {'C': 0.7, 'kernel': 'linear'}\n",
            "#24 0.577206 (0.103752) with: {'C': 0.7, 'kernel': 'poly'}\n",
            "#7 0.662500 (0.076816) with: {'C': 0.7, 'kernel': 'rbf'}\n",
            "#34 0.511765 (0.069286) with: {'C': 0.7, 'kernel': 'sigmoid'}\n",
            "#13 0.607353 (0.089147) with: {'C': 0.9, 'kernel': 'linear'}\n",
            "#26 0.565074 (0.095206) with: {'C': 0.9, 'kernel': 'poly'}\n",
            "#3 0.674632 (0.092779) with: {'C': 0.9, 'kernel': 'rbf'}\n",
            "#35 0.481618 (0.094507) with: {'C': 0.9, 'kernel': 'sigmoid'}\n",
            "#13 0.607353 (0.089147) with: {'C': 1.0, 'kernel': 'linear'}\n",
            "#31 0.559191 (0.098971) with: {'C': 1.0, 'kernel': 'poly'}\n",
            "#3 0.674632 (0.092779) with: {'C': 1.0, 'kernel': 'rbf'}\n",
            "#36 0.475368 (0.103034) with: {'C': 1.0, 'kernel': 'sigmoid'}\n",
            "#13 0.607353 (0.089147) with: {'C': 1.3, 'kernel': 'linear'}\n",
            "#26 0.565074 (0.095206) with: {'C': 1.3, 'kernel': 'poly'}\n",
            "#5 0.674265 (0.095066) with: {'C': 1.3, 'kernel': 'rbf'}\n",
            "#37 0.457721 (0.088728) with: {'C': 1.3, 'kernel': 'sigmoid'}\n",
            "#13 0.607353 (0.089147) with: {'C': 1.5, 'kernel': 'linear'}\n",
            "#28 0.564706 (0.097023) with: {'C': 1.5, 'kernel': 'poly'}\n",
            "#2 0.680515 (0.084917) with: {'C': 1.5, 'kernel': 'rbf'}\n",
            "#39 0.452206 (0.091971) with: {'C': 1.5, 'kernel': 'sigmoid'}\n",
            "#13 0.607353 (0.089147) with: {'C': 1.7, 'kernel': 'linear'}\n",
            "#28 0.564706 (0.097023) with: {'C': 1.7, 'kernel': 'poly'}\n",
            "#1 0.686765 (0.078021) with: {'C': 1.7, 'kernel': 'rbf'}\n",
            "#39 0.452206 (0.087620) with: {'C': 1.7, 'kernel': 'sigmoid'}\n",
            "#13 0.607353 (0.089147) with: {'C': 2.0, 'kernel': 'linear'}\n",
            "#28 0.564706 (0.097023) with: {'C': 2.0, 'kernel': 'poly'}\n",
            "#6 0.668750 (0.076050) with: {'C': 2.0, 'kernel': 'rbf'}\n",
            "#38 0.452574 (0.089020) with: {'C': 2.0, 'kernel': 'sigmoid'}\n"
          ],
          "name": "stdout"
        }
      ]
    },
    {
      "cell_type": "code",
      "metadata": {
        "id": "KDQ8mi6sZdYo",
        "colab_type": "code",
        "colab": {}
      },
      "source": [
        "# SVM algorithm tuning\n",
        "scaler = StandardScaler().fit(X_train)\n",
        "rescaledX = scaler.transform(X_train)\n",
        "c_values = [0.1, 0.3, 0.5, 0.7, 0.9, 1.0, 1.3, 1.5, 1.7, 2.0]\n",
        "kernel_values = ['linear', 'poly', 'rbf', 'sigmoid']\n",
        "param_grid = dict(C=c_values, kernel=kernel_values)\n",
        "model = SVC()\n",
        "kfold = StratifiedKFold(n_splits=num_folds, random_state=seed,shuffle=True)\n",
        "grid = GridSearchCV(estimator=model, param_grid=param_grid, scoring=scoring, cv=kfold)\n",
        "grid_result = grid.fit(rescaledX, Y_train)"
      ],
      "execution_count": 89,
      "outputs": []
    },
    {
      "cell_type": "code",
      "metadata": {
        "id": "Tyv81l9VZdV2",
        "colab_type": "code",
        "colab": {
          "base_uri": "https://localhost:8080/",
          "height": 760
        },
        "outputId": "0744f49e-a9bc-43a7-f5ae-e069eff96afa"
      },
      "source": [
        "print(\"Best: %f using %s\" % (grid_result.best_score_, grid_result.best_params_))\n",
        "means = grid_result.cv_results_['mean_test_score']\n",
        "stds = grid_result.cv_results_['std_test_score']\n",
        "params = grid_result.cv_results_['params']\n",
        "ranks = grid_result.cv_results_['rank_test_score']\n",
        "for mean, stdev, param, rank in zip(means, stds, params, ranks):\n",
        "    print(\"#%d %f (%f) with: %r\" % (rank, mean, stdev, param))"
      ],
      "execution_count": 90,
      "outputs": [
        {
          "output_type": "stream",
          "text": [
            "Best: 0.686765 using {'C': 1.7, 'kernel': 'rbf'}\n",
            "#10 0.631985 (0.079116) with: {'C': 0.1, 'kernel': 'linear'}\n",
            "#22 0.595221 (0.100516) with: {'C': 0.1, 'kernel': 'poly'}\n",
            "#21 0.601838 (0.074878) with: {'C': 0.1, 'kernel': 'rbf'}\n",
            "#12 0.607721 (0.059940) with: {'C': 0.1, 'kernel': 'sigmoid'}\n",
            "#11 0.613235 (0.085683) with: {'C': 0.3, 'kernel': 'linear'}\n",
            "#23 0.582353 (0.111151) with: {'C': 0.3, 'kernel': 'poly'}\n",
            "#8 0.650735 (0.073713) with: {'C': 0.3, 'kernel': 'rbf'}\n",
            "#32 0.553676 (0.081036) with: {'C': 0.3, 'kernel': 'sigmoid'}\n",
            "#13 0.607353 (0.089147) with: {'C': 0.5, 'kernel': 'linear'}\n",
            "#25 0.576471 (0.094648) with: {'C': 0.5, 'kernel': 'poly'}\n",
            "#9 0.650368 (0.085028) with: {'C': 0.5, 'kernel': 'rbf'}\n",
            "#33 0.529779 (0.089399) with: {'C': 0.5, 'kernel': 'sigmoid'}\n",
            "#13 0.607353 (0.089147) with: {'C': 0.7, 'kernel': 'linear'}\n",
            "#24 0.577206 (0.103752) with: {'C': 0.7, 'kernel': 'poly'}\n",
            "#7 0.662500 (0.076816) with: {'C': 0.7, 'kernel': 'rbf'}\n",
            "#34 0.511765 (0.069286) with: {'C': 0.7, 'kernel': 'sigmoid'}\n",
            "#13 0.607353 (0.089147) with: {'C': 0.9, 'kernel': 'linear'}\n",
            "#26 0.565074 (0.095206) with: {'C': 0.9, 'kernel': 'poly'}\n",
            "#3 0.674632 (0.092779) with: {'C': 0.9, 'kernel': 'rbf'}\n",
            "#35 0.481618 (0.094507) with: {'C': 0.9, 'kernel': 'sigmoid'}\n",
            "#13 0.607353 (0.089147) with: {'C': 1.0, 'kernel': 'linear'}\n",
            "#31 0.559191 (0.098971) with: {'C': 1.0, 'kernel': 'poly'}\n",
            "#3 0.674632 (0.092779) with: {'C': 1.0, 'kernel': 'rbf'}\n",
            "#36 0.475368 (0.103034) with: {'C': 1.0, 'kernel': 'sigmoid'}\n",
            "#13 0.607353 (0.089147) with: {'C': 1.3, 'kernel': 'linear'}\n",
            "#26 0.565074 (0.095206) with: {'C': 1.3, 'kernel': 'poly'}\n",
            "#5 0.674265 (0.095066) with: {'C': 1.3, 'kernel': 'rbf'}\n",
            "#37 0.457721 (0.088728) with: {'C': 1.3, 'kernel': 'sigmoid'}\n",
            "#13 0.607353 (0.089147) with: {'C': 1.5, 'kernel': 'linear'}\n",
            "#28 0.564706 (0.097023) with: {'C': 1.5, 'kernel': 'poly'}\n",
            "#2 0.680515 (0.084917) with: {'C': 1.5, 'kernel': 'rbf'}\n",
            "#39 0.452206 (0.091971) with: {'C': 1.5, 'kernel': 'sigmoid'}\n",
            "#13 0.607353 (0.089147) with: {'C': 1.7, 'kernel': 'linear'}\n",
            "#28 0.564706 (0.097023) with: {'C': 1.7, 'kernel': 'poly'}\n",
            "#1 0.686765 (0.078021) with: {'C': 1.7, 'kernel': 'rbf'}\n",
            "#39 0.452206 (0.087620) with: {'C': 1.7, 'kernel': 'sigmoid'}\n",
            "#13 0.607353 (0.089147) with: {'C': 2.0, 'kernel': 'linear'}\n",
            "#28 0.564706 (0.097023) with: {'C': 2.0, 'kernel': 'poly'}\n",
            "#6 0.668750 (0.076050) with: {'C': 2.0, 'kernel': 'rbf'}\n",
            "#38 0.452574 (0.089020) with: {'C': 2.0, 'kernel': 'sigmoid'}\n"
          ],
          "name": "stdout"
        }
      ]
    },
    {
      "cell_type": "code",
      "metadata": {
        "id": "pmBG6kfhZdS9",
        "colab_type": "code",
        "colab": {}
      },
      "source": [
        "# ensembles\n",
        "ensembles = []\n",
        "# Boosting methods\n",
        "ensembles.append(('AB', AdaBoostClassifier()))\n",
        "ensembles.append(('GBM', GradientBoostingClassifier()))\n",
        "# Bagging methods\n",
        "ensembles.append(('RF', RandomForestClassifier()))"
      ],
      "execution_count": 91,
      "outputs": []
    },
    {
      "cell_type": "code",
      "metadata": {
        "id": "F3WCV2cM0lpD",
        "colab_type": "code",
        "colab": {
          "base_uri": "https://localhost:8080/",
          "height": 72
        },
        "outputId": "c5b6ca83-cbcf-4612-85b3-7baedc69f781"
      },
      "source": [
        "results = []\n",
        "names = []\n",
        "for name, model in ensembles:\n",
        "    kfold = StratifiedKFold(n_splits=num_folds, random_state=seed, shuffle=True)\n",
        "    cv_results = cross_val_score(model, X_train, Y_train, cv=kfold, scoring=scoring)\n",
        "    results.append(cv_results)\n",
        "    names.append(name)\n",
        "    msg = \"%s: Avg. Accuracy %f Std. (%f) Max Accuracy (%f) Min Accuracy (%f)\" % (name, cv_results.mean(), cv_results.std(), \n",
        "                                                                                  cv_results.max(), cv_results.min())\n",
        "    print(msg)"
      ],
      "execution_count": 92,
      "outputs": [
        {
          "output_type": "stream",
          "text": [
            "AB: Avg. Accuracy 0.620956 Std. (0.091047) Max Accuracy (0.764706) Min Accuracy (0.500000)\n",
            "GBM: Avg. Accuracy 0.673897 Std. (0.093198) Max Accuracy (0.823529) Min Accuracy (0.562500)\n",
            "RF: Avg. Accuracy 0.668382 Std. (0.097420) Max Accuracy (0.823529) Min Accuracy (0.529412)\n"
          ],
          "name": "stdout"
        }
      ]
    }
  ]
}